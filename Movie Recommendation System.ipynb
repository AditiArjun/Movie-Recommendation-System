{
 "cells": [
  {
   "cell_type": "code",
   "execution_count": 1,
   "id": "9906a5f6-41c3-4fc1-ac7f-9a5c703da04f",
   "metadata": {},
   "outputs": [],
   "source": [
    "import numpy as np\n",
    "import pandas as pd\n",
    "from sklearn.metrics.pairwise import cosine_similarity\n",
    "from sklearn.model_selection import train_test_split\n",
    "\n",
    "import warnings\n",
    "warnings.filterwarnings(\"ignore\")"
   ]
  },
  {
   "cell_type": "code",
   "execution_count": 2,
   "id": "b3bb9f18-520a-4374-948d-630a185bdafb",
   "metadata": {},
   "outputs": [],
   "source": [
    "data = {\n",
    "    \"user_id\":[1, 1, 1, 2, 2, 3, 3, 4],\n",
    "    \"movie_id\":[101, 102, 103, 101, 103, 101, 104, 102],\n",
    "    \"ratings\":[5, 3, 4, 4, 5, 3, 4, 2]\n",
    "}"
   ]
  },
  {
   "cell_type": "code",
   "execution_count": 3,
   "id": "33b649b4-d167-414a-8855-e95d364f4938",
   "metadata": {},
   "outputs": [],
   "source": [
    "ratings = pd.DataFrame(data)"
   ]
  },
  {
   "cell_type": "markdown",
   "id": "61b94420-a142-4864-a0f6-c0739062cde4",
   "metadata": {},
   "source": [
    "ratings"
   ]
  },
  {
   "cell_type": "code",
   "execution_count": 4,
   "id": "82ee65eb-eabd-42fc-be7c-2dd92a0e25cd",
   "metadata": {},
   "outputs": [],
   "source": [
    "user_items_matrix = ratings.pivot(index=\"user_id\", columns=\"movie_id\", values=\"ratings\")"
   ]
  },
  {
   "cell_type": "code",
   "execution_count": 5,
   "id": "8e0a9ac5-dc3b-4a56-b323-633153804450",
   "metadata": {},
   "outputs": [],
   "source": [
    "uim = user_items_matrix.copy()"
   ]
  },
  {
   "cell_type": "code",
   "execution_count": 6,
   "id": "9311ab0c-2a49-4af2-9139-bbd6abc1c129",
   "metadata": {
    "scrolled": true
   },
   "outputs": [
    {
     "data": {
      "text/html": [
       "<div>\n",
       "<style scoped>\n",
       "    .dataframe tbody tr th:only-of-type {\n",
       "        vertical-align: middle;\n",
       "    }\n",
       "\n",
       "    .dataframe tbody tr th {\n",
       "        vertical-align: top;\n",
       "    }\n",
       "\n",
       "    .dataframe thead th {\n",
       "        text-align: right;\n",
       "    }\n",
       "</style>\n",
       "<table border=\"1\" class=\"dataframe\">\n",
       "  <thead>\n",
       "    <tr style=\"text-align: right;\">\n",
       "      <th>movie_id</th>\n",
       "      <th>101</th>\n",
       "      <th>102</th>\n",
       "      <th>103</th>\n",
       "      <th>104</th>\n",
       "    </tr>\n",
       "    <tr>\n",
       "      <th>user_id</th>\n",
       "      <th></th>\n",
       "      <th></th>\n",
       "      <th></th>\n",
       "      <th></th>\n",
       "    </tr>\n",
       "  </thead>\n",
       "  <tbody>\n",
       "    <tr>\n",
       "      <th>1</th>\n",
       "      <td>5.0</td>\n",
       "      <td>3.0</td>\n",
       "      <td>4.0</td>\n",
       "      <td>NaN</td>\n",
       "    </tr>\n",
       "    <tr>\n",
       "      <th>2</th>\n",
       "      <td>4.0</td>\n",
       "      <td>NaN</td>\n",
       "      <td>5.0</td>\n",
       "      <td>NaN</td>\n",
       "    </tr>\n",
       "    <tr>\n",
       "      <th>3</th>\n",
       "      <td>3.0</td>\n",
       "      <td>NaN</td>\n",
       "      <td>NaN</td>\n",
       "      <td>4.0</td>\n",
       "    </tr>\n",
       "    <tr>\n",
       "      <th>4</th>\n",
       "      <td>NaN</td>\n",
       "      <td>2.0</td>\n",
       "      <td>NaN</td>\n",
       "      <td>NaN</td>\n",
       "    </tr>\n",
       "  </tbody>\n",
       "</table>\n",
       "</div>"
      ],
      "text/plain": [
       "movie_id  101  102  103  104\n",
       "user_id                     \n",
       "1         5.0  3.0  4.0  NaN\n",
       "2         4.0  NaN  5.0  NaN\n",
       "3         3.0  NaN  NaN  4.0\n",
       "4         NaN  2.0  NaN  NaN"
      ]
     },
     "execution_count": 6,
     "metadata": {},
     "output_type": "execute_result"
    }
   ],
   "source": [
    "user_items_matrix"
   ]
  },
  {
   "cell_type": "code",
   "execution_count": 7,
   "id": "ff0b4b30-cc2d-442e-92a8-9b441735b7f2",
   "metadata": {},
   "outputs": [],
   "source": [
    "user_items_matrix.fillna(0, inplace=True)"
   ]
  },
  {
   "cell_type": "code",
   "execution_count": 8,
   "id": "c8369486-bbab-45d2-9a9b-31253a79b7de",
   "metadata": {
    "scrolled": true
   },
   "outputs": [
    {
     "data": {
      "text/html": [
       "<div>\n",
       "<style scoped>\n",
       "    .dataframe tbody tr th:only-of-type {\n",
       "        vertical-align: middle;\n",
       "    }\n",
       "\n",
       "    .dataframe tbody tr th {\n",
       "        vertical-align: top;\n",
       "    }\n",
       "\n",
       "    .dataframe thead th {\n",
       "        text-align: right;\n",
       "    }\n",
       "</style>\n",
       "<table border=\"1\" class=\"dataframe\">\n",
       "  <thead>\n",
       "    <tr style=\"text-align: right;\">\n",
       "      <th>movie_id</th>\n",
       "      <th>101</th>\n",
       "      <th>102</th>\n",
       "      <th>103</th>\n",
       "      <th>104</th>\n",
       "    </tr>\n",
       "    <tr>\n",
       "      <th>user_id</th>\n",
       "      <th></th>\n",
       "      <th></th>\n",
       "      <th></th>\n",
       "      <th></th>\n",
       "    </tr>\n",
       "  </thead>\n",
       "  <tbody>\n",
       "    <tr>\n",
       "      <th>1</th>\n",
       "      <td>5.0</td>\n",
       "      <td>3.0</td>\n",
       "      <td>4.0</td>\n",
       "      <td>0.0</td>\n",
       "    </tr>\n",
       "    <tr>\n",
       "      <th>2</th>\n",
       "      <td>4.0</td>\n",
       "      <td>0.0</td>\n",
       "      <td>5.0</td>\n",
       "      <td>0.0</td>\n",
       "    </tr>\n",
       "    <tr>\n",
       "      <th>3</th>\n",
       "      <td>3.0</td>\n",
       "      <td>0.0</td>\n",
       "      <td>0.0</td>\n",
       "      <td>4.0</td>\n",
       "    </tr>\n",
       "    <tr>\n",
       "      <th>4</th>\n",
       "      <td>0.0</td>\n",
       "      <td>2.0</td>\n",
       "      <td>0.0</td>\n",
       "      <td>0.0</td>\n",
       "    </tr>\n",
       "  </tbody>\n",
       "</table>\n",
       "</div>"
      ],
      "text/plain": [
       "movie_id  101  102  103  104\n",
       "user_id                     \n",
       "1         5.0  3.0  4.0  0.0\n",
       "2         4.0  0.0  5.0  0.0\n",
       "3         3.0  0.0  0.0  4.0\n",
       "4         0.0  2.0  0.0  0.0"
      ]
     },
     "execution_count": 8,
     "metadata": {},
     "output_type": "execute_result"
    }
   ],
   "source": [
    "user_items_matrix"
   ]
  },
  {
   "cell_type": "code",
   "execution_count": 9,
   "id": "9c9ee7ec-765d-4a6b-8f58-b115fa10dfbe",
   "metadata": {
    "scrolled": true
   },
   "outputs": [
    {
     "data": {
      "text/html": [
       "<div>\n",
       "<style scoped>\n",
       "    .dataframe tbody tr th:only-of-type {\n",
       "        vertical-align: middle;\n",
       "    }\n",
       "\n",
       "    .dataframe tbody tr th {\n",
       "        vertical-align: top;\n",
       "    }\n",
       "\n",
       "    .dataframe thead th {\n",
       "        text-align: right;\n",
       "    }\n",
       "</style>\n",
       "<table border=\"1\" class=\"dataframe\">\n",
       "  <thead>\n",
       "    <tr style=\"text-align: right;\">\n",
       "      <th>movie_id</th>\n",
       "      <th>101</th>\n",
       "      <th>102</th>\n",
       "      <th>103</th>\n",
       "      <th>104</th>\n",
       "    </tr>\n",
       "    <tr>\n",
       "      <th>user_id</th>\n",
       "      <th></th>\n",
       "      <th></th>\n",
       "      <th></th>\n",
       "      <th></th>\n",
       "    </tr>\n",
       "  </thead>\n",
       "  <tbody>\n",
       "    <tr>\n",
       "      <th>1</th>\n",
       "      <td>5.0</td>\n",
       "      <td>3.0</td>\n",
       "      <td>4.0</td>\n",
       "      <td>NaN</td>\n",
       "    </tr>\n",
       "    <tr>\n",
       "      <th>2</th>\n",
       "      <td>4.0</td>\n",
       "      <td>NaN</td>\n",
       "      <td>5.0</td>\n",
       "      <td>NaN</td>\n",
       "    </tr>\n",
       "    <tr>\n",
       "      <th>3</th>\n",
       "      <td>3.0</td>\n",
       "      <td>NaN</td>\n",
       "      <td>NaN</td>\n",
       "      <td>4.0</td>\n",
       "    </tr>\n",
       "    <tr>\n",
       "      <th>4</th>\n",
       "      <td>NaN</td>\n",
       "      <td>2.0</td>\n",
       "      <td>NaN</td>\n",
       "      <td>NaN</td>\n",
       "    </tr>\n",
       "  </tbody>\n",
       "</table>\n",
       "</div>"
      ],
      "text/plain": [
       "movie_id  101  102  103  104\n",
       "user_id                     \n",
       "1         5.0  3.0  4.0  NaN\n",
       "2         4.0  NaN  5.0  NaN\n",
       "3         3.0  NaN  NaN  4.0\n",
       "4         NaN  2.0  NaN  NaN"
      ]
     },
     "execution_count": 9,
     "metadata": {},
     "output_type": "execute_result"
    }
   ],
   "source": [
    "uim"
   ]
  },
  {
   "cell_type": "code",
   "execution_count": 10,
   "id": "e6af3d32-84dd-4184-aa94-7a231cf30aff",
   "metadata": {},
   "outputs": [],
   "source": [
    "user_similarity = cosine_similarity(user_items_matrix)"
   ]
  },
  {
   "cell_type": "code",
   "execution_count": 11,
   "id": "80ae22ce-e951-484f-930c-ac998df2f76c",
   "metadata": {
    "scrolled": true
   },
   "outputs": [
    {
     "data": {
      "text/plain": [
       "array([[1.        , 0.88345221, 0.42426407, 0.42426407],\n",
       "       [0.88345221, 1.        , 0.37481703, 0.        ],\n",
       "       [0.42426407, 0.37481703, 1.        , 0.        ],\n",
       "       [0.42426407, 0.        , 0.        , 1.        ]])"
      ]
     },
     "execution_count": 11,
     "metadata": {},
     "output_type": "execute_result"
    }
   ],
   "source": [
    "user_similarity"
   ]
  },
  {
   "cell_type": "code",
   "execution_count": 12,
   "id": "7ce43c44-57f6-4309-b3c2-ad5175a5e910",
   "metadata": {},
   "outputs": [],
   "source": [
    "user_similarity_df = pd.DataFrame(user_similarity, index=user_items_matrix.index, \n",
    "                                  columns=user_items_matrix.index)"
   ]
  },
  {
   "cell_type": "code",
   "execution_count": 13,
   "id": "fbf96aa5-89dd-4f9c-8e39-dfbe06c24157",
   "metadata": {
    "scrolled": true
   },
   "outputs": [
    {
     "data": {
      "text/html": [
       "<div>\n",
       "<style scoped>\n",
       "    .dataframe tbody tr th:only-of-type {\n",
       "        vertical-align: middle;\n",
       "    }\n",
       "\n",
       "    .dataframe tbody tr th {\n",
       "        vertical-align: top;\n",
       "    }\n",
       "\n",
       "    .dataframe thead th {\n",
       "        text-align: right;\n",
       "    }\n",
       "</style>\n",
       "<table border=\"1\" class=\"dataframe\">\n",
       "  <thead>\n",
       "    <tr style=\"text-align: right;\">\n",
       "      <th>user_id</th>\n",
       "      <th>1</th>\n",
       "      <th>2</th>\n",
       "      <th>3</th>\n",
       "      <th>4</th>\n",
       "    </tr>\n",
       "    <tr>\n",
       "      <th>user_id</th>\n",
       "      <th></th>\n",
       "      <th></th>\n",
       "      <th></th>\n",
       "      <th></th>\n",
       "    </tr>\n",
       "  </thead>\n",
       "  <tbody>\n",
       "    <tr>\n",
       "      <th>1</th>\n",
       "      <td>1.000000</td>\n",
       "      <td>0.883452</td>\n",
       "      <td>0.424264</td>\n",
       "      <td>0.424264</td>\n",
       "    </tr>\n",
       "    <tr>\n",
       "      <th>2</th>\n",
       "      <td>0.883452</td>\n",
       "      <td>1.000000</td>\n",
       "      <td>0.374817</td>\n",
       "      <td>0.000000</td>\n",
       "    </tr>\n",
       "    <tr>\n",
       "      <th>3</th>\n",
       "      <td>0.424264</td>\n",
       "      <td>0.374817</td>\n",
       "      <td>1.000000</td>\n",
       "      <td>0.000000</td>\n",
       "    </tr>\n",
       "    <tr>\n",
       "      <th>4</th>\n",
       "      <td>0.424264</td>\n",
       "      <td>0.000000</td>\n",
       "      <td>0.000000</td>\n",
       "      <td>1.000000</td>\n",
       "    </tr>\n",
       "  </tbody>\n",
       "</table>\n",
       "</div>"
      ],
      "text/plain": [
       "user_id         1         2         3         4\n",
       "user_id                                        \n",
       "1        1.000000  0.883452  0.424264  0.424264\n",
       "2        0.883452  1.000000  0.374817  0.000000\n",
       "3        0.424264  0.374817  1.000000  0.000000\n",
       "4        0.424264  0.000000  0.000000  1.000000"
      ]
     },
     "execution_count": 13,
     "metadata": {},
     "output_type": "execute_result"
    }
   ],
   "source": [
    "user_similarity_df"
   ]
  },
  {
   "cell_type": "code",
   "execution_count": 14,
   "id": "0c799730-2270-4d82-97da-edff05fa772a",
   "metadata": {},
   "outputs": [],
   "source": [
    "def predict_ratings(user_id, user_items_matrix, user_similarity_df):\n",
    "    user_ratings = user_items_matrix.iloc[user_id].values\n",
    "    similarity_score = user_similarity_df[user_id].values\n",
    "    weighted_sum = np.dot(similarity_score, user_items_matrix.fillna(0))\n",
    "    similarity_sum = np.sum(np.abs(similarity_score))\n",
    "    predicted_ratings = weighted_sum / (similarity_sum+1e-10)\n",
    "    return predicted_ratings"
   ]
  },
  {
   "cell_type": "code",
   "execution_count": 15,
   "id": "16f5cc88-2027-462a-a1fa-eda5ebddf4fa",
   "metadata": {},
   "outputs": [],
   "source": [
    "user_id = 1\n",
    "predicted_ratings = predict_ratings(user_id, uim, user_similarity_df)"
   ]
  },
  {
   "cell_type": "code",
   "execution_count": 16,
   "id": "92f7c810-d169-4316-a5fe-16af39685545",
   "metadata": {},
   "outputs": [
    {
     "data": {
      "text/plain": [
       "array([3.58955768, 1.4086954 , 3.08101083, 0.62118173])"
      ]
     },
     "execution_count": 16,
     "metadata": {},
     "output_type": "execute_result"
    }
   ],
   "source": [
    "predicted_ratings"
   ]
  },
  {
   "cell_type": "code",
   "execution_count": 17,
   "id": "72d965fa-5b8f-480d-9904-b7cd1b1cba9f",
   "metadata": {},
   "outputs": [],
   "source": [
    "movie_ids = user_items_matrix.columns"
   ]
  },
  {
   "cell_type": "code",
   "execution_count": 18,
   "id": "c44af553-f61b-4c63-93a2-3f2ecdf15ecc",
   "metadata": {},
   "outputs": [],
   "source": [
    "unrated_movies = uim.loc[user_id].isna()"
   ]
  },
  {
   "cell_type": "code",
   "execution_count": 19,
   "id": "7379cca6-d9ae-4fcc-95f2-91be7c1b375e",
   "metadata": {
    "scrolled": true
   },
   "outputs": [
    {
     "data": {
      "text/plain": [
       "movie_id\n",
       "101    False\n",
       "102    False\n",
       "103    False\n",
       "104     True\n",
       "Name: 1, dtype: bool"
      ]
     },
     "execution_count": 19,
     "metadata": {},
     "output_type": "execute_result"
    }
   ],
   "source": [
    "unrated_movies"
   ]
  },
  {
   "cell_type": "code",
   "execution_count": 20,
   "id": "9d23ad53-551c-49bd-ac42-cd194d592d31",
   "metadata": {},
   "outputs": [],
   "source": [
    "recomended_movies = movie_ids[unrated_movies].values"
   ]
  },
  {
   "cell_type": "code",
   "execution_count": 21,
   "id": "46115990-bdda-497a-a102-fe3c2c041d1a",
   "metadata": {},
   "outputs": [
    {
     "data": {
      "text/plain": [
       "array([104], dtype=int64)"
      ]
     },
     "execution_count": 21,
     "metadata": {},
     "output_type": "execute_result"
    }
   ],
   "source": [
    "recomended_movies"
   ]
  },
  {
   "cell_type": "code",
   "execution_count": 22,
   "id": "31eb770a-8838-45b0-85f8-35556034a774",
   "metadata": {},
   "outputs": [],
   "source": [
    "recommended_ratings = predicted_ratings[unrated_movies]"
   ]
  },
  {
   "cell_type": "code",
   "execution_count": 23,
   "id": "1b4b6a39-1093-4680-a564-aaf884721097",
   "metadata": {},
   "outputs": [
    {
     "data": {
      "text/plain": [
       "array([0.62118173])"
      ]
     },
     "execution_count": 23,
     "metadata": {},
     "output_type": "execute_result"
    }
   ],
   "source": [
    "recommended_ratings"
   ]
  },
  {
   "cell_type": "code",
   "execution_count": 24,
   "id": "6b179549-d858-458f-96c2-07d6046ff183",
   "metadata": {},
   "outputs": [],
   "source": [
    "recommendations = sorted(zip(recomended_movies, recommended_ratings), \n",
    "                         key=lambda x: x[1], reverse=True)"
   ]
  },
  {
   "cell_type": "code",
   "execution_count": 25,
   "id": "5c7d087c-cfc9-4935-ad27-7c9edb7ea449",
   "metadata": {},
   "outputs": [
    {
     "name": "stdout",
     "output_type": "stream",
     "text": [
      "Movie ID : 104  Ratings : 0.6211817289448168\n"
     ]
    }
   ],
   "source": [
    "for i, j in recommendations:\n",
    "    print(f\"Movie ID : {i}  Ratings : {j}\" )"
   ]
  },
  {
   "cell_type": "code",
   "execution_count": null,
   "id": "e934f4e4-3adc-4989-beb8-b9d7a0963562",
   "metadata": {},
   "outputs": [],
   "source": []
  }
 ],
 "metadata": {
  "kernelspec": {
   "display_name": "Python 3 (ipykernel)",
   "language": "python",
   "name": "python3"
  },
  "language_info": {
   "codemirror_mode": {
    "name": "ipython",
    "version": 3
   },
   "file_extension": ".py",
   "mimetype": "text/x-python",
   "name": "python",
   "nbconvert_exporter": "python",
   "pygments_lexer": "ipython3",
   "version": "3.11.7"
  },
  "widgets": {
   "application/vnd.jupyter.widget-state+json": {
    "state": {},
    "version_major": 2,
    "version_minor": 0
   }
  }
 },
 "nbformat": 4,
 "nbformat_minor": 5
}
